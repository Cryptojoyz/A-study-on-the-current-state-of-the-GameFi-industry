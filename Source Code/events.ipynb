{
 "cells": [
  {
   "cell_type": "code",
   "execution_count": 95,
   "id": "b65a7d03",
   "metadata": {
    "scrolled": true
   },
   "outputs": [
    {
     "name": "stdout",
     "output_type": "stream",
     "text": [
      "Requirement already satisfied: selenium in /Users/wuyuting/opt/anaconda3/lib/python3.9/site-packages (4.5.0)\n",
      "Requirement already satisfied: trio-websocket~=0.9 in /Users/wuyuting/opt/anaconda3/lib/python3.9/site-packages (from selenium) (0.9.2)\n",
      "Requirement already satisfied: certifi>=2021.10.8 in /Users/wuyuting/opt/anaconda3/lib/python3.9/site-packages (from selenium) (2021.10.8)\n",
      "Requirement already satisfied: trio~=0.17 in /Users/wuyuting/opt/anaconda3/lib/python3.9/site-packages (from selenium) (0.22.0)\n",
      "Requirement already satisfied: urllib3[socks]~=1.26 in /Users/wuyuting/opt/anaconda3/lib/python3.9/site-packages (from selenium) (1.26.9)\n",
      "Requirement already satisfied: async-generator>=1.9 in /Users/wuyuting/opt/anaconda3/lib/python3.9/site-packages (from trio~=0.17->selenium) (1.10)\n",
      "Requirement already satisfied: sortedcontainers in /Users/wuyuting/opt/anaconda3/lib/python3.9/site-packages (from trio~=0.17->selenium) (2.4.0)\n",
      "Requirement already satisfied: sniffio in /Users/wuyuting/opt/anaconda3/lib/python3.9/site-packages (from trio~=0.17->selenium) (1.2.0)\n",
      "Requirement already satisfied: outcome in /Users/wuyuting/opt/anaconda3/lib/python3.9/site-packages (from trio~=0.17->selenium) (1.2.0)\n",
      "Requirement already satisfied: exceptiongroup>=1.0.0rc9 in /Users/wuyuting/opt/anaconda3/lib/python3.9/site-packages (from trio~=0.17->selenium) (1.0.0rc9)\n",
      "Requirement already satisfied: idna in /Users/wuyuting/opt/anaconda3/lib/python3.9/site-packages (from trio~=0.17->selenium) (3.3)\n",
      "Requirement already satisfied: attrs>=19.2.0 in /Users/wuyuting/opt/anaconda3/lib/python3.9/site-packages (from trio~=0.17->selenium) (21.4.0)\n",
      "Requirement already satisfied: wsproto>=0.14 in /Users/wuyuting/opt/anaconda3/lib/python3.9/site-packages (from trio-websocket~=0.9->selenium) (1.2.0)\n",
      "Requirement already satisfied: PySocks!=1.5.7,<2.0,>=1.5.6 in /Users/wuyuting/opt/anaconda3/lib/python3.9/site-packages (from urllib3[socks]~=1.26->selenium) (1.7.1)\n",
      "Requirement already satisfied: h11<1,>=0.9.0 in /Users/wuyuting/opt/anaconda3/lib/python3.9/site-packages (from wsproto>=0.14->trio-websocket~=0.9->selenium) (0.14.0)\n",
      "Requirement already satisfied: webdriver-manager in /Users/wuyuting/opt/anaconda3/lib/python3.9/site-packages (3.8.4)\n",
      "Requirement already satisfied: tqdm in /Users/wuyuting/opt/anaconda3/lib/python3.9/site-packages (from webdriver-manager) (4.64.0)\n",
      "Requirement already satisfied: python-dotenv in /Users/wuyuting/opt/anaconda3/lib/python3.9/site-packages (from webdriver-manager) (0.21.0)\n",
      "Requirement already satisfied: requests in /Users/wuyuting/opt/anaconda3/lib/python3.9/site-packages (from webdriver-manager) (2.27.1)\n",
      "Requirement already satisfied: certifi>=2017.4.17 in /Users/wuyuting/opt/anaconda3/lib/python3.9/site-packages (from requests->webdriver-manager) (2021.10.8)\n",
      "Requirement already satisfied: urllib3<1.27,>=1.21.1 in /Users/wuyuting/opt/anaconda3/lib/python3.9/site-packages (from requests->webdriver-manager) (1.26.9)\n",
      "Requirement already satisfied: idna<4,>=2.5 in /Users/wuyuting/opt/anaconda3/lib/python3.9/site-packages (from requests->webdriver-manager) (3.3)\n",
      "Requirement already satisfied: charset-normalizer~=2.0.0 in /Users/wuyuting/opt/anaconda3/lib/python3.9/site-packages (from requests->webdriver-manager) (2.0.4)\n"
     ]
    }
   ],
   "source": [
    "!pip install selenium\n",
    "!pip install webdriver-manager --upgrade"
   ]
  },
  {
   "cell_type": "code",
   "execution_count": 2,
   "id": "b0b4e78c",
   "metadata": {},
   "outputs": [
    {
     "name": "stderr",
     "output_type": "stream",
     "text": [
      "[WDM] - Downloading: 100%|█████████████████| 8.41M/8.41M [00:05<00:00, 1.62MB/s]\n"
     ]
    }
   ],
   "source": [
    "from selenium import webdriver\n",
    "from selenium.webdriver.common.by import By\n",
    "from webdriver_manager.chrome import ChromeDriverManager\n",
    "from selenium.webdriver.chrome.service import Service\n",
    "browser = webdriver.Chrome(service=Service(ChromeDriverManager().install()))\n",
    "browser.implicitly_wait(10)\n",
    "browser.get(\"https://chainplay.gg/calendar/\")"
   ]
  },
  {
   "cell_type": "code",
   "execution_count": 7,
   "id": "79e36361",
   "metadata": {},
   "outputs": [
    {
     "name": "stdout",
     "output_type": "stream",
     "text": [
      "['GEMS - Esports 3.0 Platform\\nIDO ON DuckSTARTER', 'Souls of Meta\\nIDO ON GameZone', 'The Unfettered\\nIDO ON Red Kite', 'The Unfettered\\nIDO ON Red Kite', 'Souls of Meta\\nIDO ON GameZone', 'Heroes of Mavia\\nHeroes of Mavia', 'The Fabled\\nThe Fabled', 'Shrapnel\\nShrapnel', 'GEMS - Esports 3.0 Platform\\nIDO ON DuckSTARTER', 'Fight Of The Ages\\nIDO ON MoonStarter', 'Cradles\\nCradles', 'The Next War\\nIDO ON BSClaunch', 'MetaMerge\\nIDO ON Krystal GO', 'Project Hive\\nIDO ON SolRazr', 'MetaMerge\\nIDO ON Krystal GO', 'The Next War\\nLegendary Box on Gamestarter', 'The Next War\\nRare Box on Gamestarter', 'The Unfettered\\nIDO on Red Kite', 'Heroes of The Land\\nINO on NFTb', 'MetaMerge\\nIDO on Krystal GO', 'Project Hive\\nIDO on SolRazr', 'Fight Of The Ages\\nIDO on MoonStarter', 'MetaShooter\\nIDO on Starter', 'GEMS - Esports 3.0 Platform\\nIDO on DuckSTARTER']\n",
      "['$250,000', '$300,000', '$100,000', '$35,000', '$200,000', '$30,000', '$270,000', '$195,000', '$148,000', '$12,500,000', '$200,000', '$50,000', '$100,000', '$200,000', '$200,000', '$650,000', '$300,000', '$250,000', '$350,000', '$150,000', '$100,000', '-', '-', '-', '-', '$400,000', '$150,000', '$500,000', '$200,000', '$220,000', '$250,000', '$178,000', '$380,000', '$140,500', '$250,000', '$150,000', '-', '-', '$142,505', '$100,000', '$142,505', '$100,000', '$154,000', '$380,000', '$500,000', '$95,000', '$200,000', '$200,000', '$350,000', '$400,000', '$178,000', '$100,000', '$250,000', '$150,000', '$100,000', '$375,100', '-', '$200,000', '-', '-', '$50,000', '$200,000', '$650,000', '$131,000', '$4,000,000', '$300,000', '$50,000', '$50,000', '$400,000', '-', '$200,000', '$12,500,000', '$150,000', '$200,000', '-', '$200,000', '$250,000', '$142,500', '$250,000', '$150,000', '$250,000', '$200,000', '$520,000', '-', '$250,000', '$100,000', '$200,000', '$250,000', '-', '-', '$150,000', '-', '$100,000', '$25,000', '-', '-', '-', '$50,000', '$100,000', '-', '$200,000', '$200,000', '$100,000', '$100,000', '$250,000', '$100,000', '$50,000', '$400,000', '-', '$350,000', '$154,000', '$380,000', '$142,505', '$400,000', '-', '$250,000', '$100,000', '-', '$150,000', '$178,000', '$100,000', '$100,000', '$300,000', '$250,000', '$100,000', '$250,000', '$25,000', '$500,000', '-', '$288,000', '-', '$100,000', '$200,000', '$350,000', '$120,000', '$39,900', '$150,000', '$50,000', '$100,000', '$200,000', '$200,000', '$150,000', '$142,500', '$250,000', '$100,000', '$200,000']\n"
     ]
    }
   ],
   "source": [
    "GameName=[]\n",
    "IDO=[]\n",
    "FundraisingGoal=[]\n",
    "SaleType=[]\n",
    "\n",
    "# 游戏项目名称\n",
    "elements=browser.find_elements(By.CSS_SELECTOR,'div[class=\"block mt-2\"] > a')\n",
    "for element in elements:\n",
    "    GameName.append(element.text.strip())\n",
    "\n",
    "# ido\n",
    "elements=browser.find_elements(By.CSS_SELECTOR,'div[class=\"block mt-2\"] > div a p')\n",
    "for element in elements:\n",
    "    IDO.append(element.text.strip())\n",
    "\n",
    "#筹款目标,里面有fundraising为空值的情况\n",
    "elements=browser.find_elements(By.CSS_SELECTOR,'div[class=\"block mt-2\"] > div:nth-child(3) p:nth-last-child(1)')\n",
    "for element in elements:\n",
    "    FundraisingGoal.append(element.text.strip())\n",
    "#先获取出包含项目名称、筹款目标等所有信息集合为一个元素的列表\n",
    "test=[]\n",
    "elements=browser.find_elements(By.CSS_SELECTOR,'div[class=\"block mt-2\"]')\n",
    "for element in elements:\n",
    "    test.append(element.text.strip())\n",
    "#从test中获得不包含fundraising信息的元素所在的index\n",
    "none_fund=[]\n",
    "none_fund_index=[]\n",
    "for t in test:\n",
    "    if\"Fundraising Goal\" not in t:\n",
    "        none_fund.append(t)\n",
    "        none_fund_index.append(test.index(t))\n",
    "print(none_fund)\n",
    "#获取index后，给fundraising列表中应为空值的地方加上空值标识\n",
    "for i in none_fund_index:\n",
    "    FundraisingGoal.insert(i,'-')\n",
    "print(FundraisingGoal)\n",
    "\n",
    "\n",
    "#发行资产\n",
    "elements=browser.find_elements(By.CSS_SELECTOR,'div[class=\"border rounded-md border-red mt-4 \"] >p')\n",
    "for element in elements:\n",
    "    SaleType.append(element.text.strip())"
   ]
  },
  {
   "cell_type": "code",
   "execution_count": 8,
   "id": "3bc39a7b",
   "metadata": {},
   "outputs": [
    {
     "name": "stdout",
     "output_type": "stream",
     "text": [
      "146\n",
      "146\n",
      "146\n",
      "146\n"
     ]
    }
   ],
   "source": [
    "print(len(GameName))\n",
    "print(len(IDO))\n",
    "print(len(FundraisingGoal))\n",
    "print(len(SaleType))"
   ]
  },
  {
   "cell_type": "code",
   "execution_count": 9,
   "id": "e0a4e097",
   "metadata": {
    "scrolled": true
   },
   "outputs": [
    {
     "name": "stdout",
     "output_type": "stream",
     "text": [
      "                    游戏名称                   IDO      筹款目标        发行资产\n",
      "1      League of Empires          IDO ON Poolz  $250,000  Token Sale\n",
      "2           Project Hive          IDO ON Poolz  $300,000  Token Sale\n",
      "3               SuperVet     IDO ON Kommunitas  $100,000  Token Sale\n",
      "4          Boss Fighters    IDO ON Gamestarter   $35,000  Token Sale\n",
      "5      League of Empires   IDO ON Enjinstarter  $200,000  Token Sale\n",
      "..                   ...                   ...       ...         ...\n",
      "142  Stumble Upon Rumble  IDO on FantomStarter  $150,000  Token Sale\n",
      "143            Codyfight         IDO on GameFi  $142,500  Token Sale\n",
      "144            Codyfight      IDO on DAO Maker  $250,000  Token Sale\n",
      "145      Engines of Fury         IDO on GameFi  $100,000  Token Sale\n",
      "146      Engines of Fury      IDO on DAO Maker  $200,000  Token Sale\n",
      "\n",
      "[146 rows x 4 columns]\n"
     ]
    }
   ],
   "source": [
    "import pandas as pd\n",
    "\n",
    "pd_Events = pd.DataFrame({\"游戏名称\":GameName,\n",
    "        \"IDO\":IDO,\n",
    "        \"筹款目标\":FundraisingGoal,\n",
    "        \"发行资产\":SaleType,\n",
    "     })\n",
    "pd_Events.index=pd_Events.index+1\n",
    "print(pd_Events)"
   ]
  },
  {
   "cell_type": "code",
   "execution_count": 10,
   "id": "a5430374",
   "metadata": {},
   "outputs": [],
   "source": [
    "pd_Events.to_csv('Events.csv')"
   ]
  },
  {
   "cell_type": "code",
   "execution_count": null,
   "id": "db1520ed",
   "metadata": {},
   "outputs": [],
   "source": []
  }
 ],
 "metadata": {
  "kernelspec": {
   "display_name": "Python 3 (ipykernel)",
   "language": "python",
   "name": "python3"
  },
  "language_info": {
   "codemirror_mode": {
    "name": "ipython",
    "version": 3
   },
   "file_extension": ".py",
   "mimetype": "text/x-python",
   "name": "python",
   "nbconvert_exporter": "python",
   "pygments_lexer": "ipython3",
   "version": "3.9.12"
  }
 },
 "nbformat": 4,
 "nbformat_minor": 5
}
